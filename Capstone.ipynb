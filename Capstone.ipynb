{
 "cells": [
  {
   "cell_type": "markdown",
   "metadata": {},
   "source": [
    "# Capstone Project: Create a Customer Segmentation Report for Arvato Financial Services\n",
    "\n",
    "In this project, you will analyze demographics data for customers of a mail-order sales company in Germany, comparing it against demographics information for the general population. You'll use unsupervised learning techniques to perform customer segmentation, identifying the parts of the population that best describe the core customer base of the company. Then, you'll apply what you've learned on a third dataset with demographics information for targets of a marketing campaign for the company, and use a model to predict which individuals are most likely to convert into becoming customers for the company. The data that you will use has been provided by our partners at Bertelsmann Arvato Analytics, and represents a real-life data science task.\n",
    "\n",
    "If you completed the first term of this program, you will be familiar with the first part of this project, from the unsupervised learning project. The versions of those two datasets used in this project will include many more features and has not been pre-cleaned. You are also free to choose whatever approach you'd like to analyzing the data rather than follow pre-determined steps. In your work on this project, make sure that you carefully document your steps and decisions, since your main deliverable for this project will be a blog post reporting your findings."
   ]
  },
  {
   "cell_type": "markdown",
   "metadata": {},
   "source": [
    "## Part 0: Get to Know the Data\n",
    "\n",
    "There are four data files associated with this project:\n",
    "\n",
    "- `Udacity_AZDIAS_052018.csv`: Demographics data for the general population of Germany; 891 211 persons (rows) x 366 features (columns).\n",
    "- `Udacity_CUSTOMERS_052018.csv`: Demographics data for customers of a mail-order company; 191 652 persons (rows) x 369 features (columns).\n",
    "- `Udacity_MAILOUT_052018_TRAIN.csv`: Demographics data for individuals who were targets of a marketing campaign; 42 982 persons (rows) x 367 (columns).\n",
    "- `Udacity_MAILOUT_052018_TEST.csv`: Demographics data for individuals who were targets of a marketing campaign; 42 833 persons (rows) x 366 (columns).\n",
    "\n",
    "Each row of the demographics files represents a single person, but also includes information outside of individuals, including information about their household, building, and neighborhood. Use the information from the first two files to figure out how customers (\"CUSTOMERS\") are similar to or differ from the general population at large (\"AZDIAS\"), then use your analysis to make predictions on the other two files (\"MAILOUT\"), predicting which recipients are most likely to become a customer for the mail-order company.\n",
    "\n",
    "The \"CUSTOMERS\" file contains three extra columns ('CUSTOMER_GROUP', 'ONLINE_PURCHASE', and 'PRODUCT_GROUP'), which provide broad information about the customers depicted in the file. The original \"MAILOUT\" file included one additional column, \"RESPONSE\", which indicated whether or not each recipient became a customer of the company. For the \"TRAIN\" subset, this column has been retained, but in the \"TEST\" subset it has been removed; it is against that withheld column that your final predictions will be assessed in the Kaggle competition.\n",
    "\n",
    "Otherwise, all of the remaining columns are the same between the three data files. For more information about the columns depicted in the files, you can refer to two Excel spreadsheets provided in the workspace. [One of them](./DIAS Information Levels - Attributes 2017.xlsx) is a top-level list of attributes and descriptions, organized by informational category. [The other](./DIAS Attributes - Values 2017.xlsx) is a detailed mapping of data values for each feature in alphabetical order.\n",
    "\n",
    "In the below cell, we've provided some initial code to load in the first two datasets. Note for all of the `.csv` data files in this project that they're semicolon (`;`) delimited, so an additional argument in the [`read_csv()`](https://pandas.pydata.org/pandas-docs/stable/generated/pandas.read_csv.html) call has been included to read in the data properly. Also, considering the size of the datasets, it may take some time for them to load completely.\n",
    "\n",
    "You'll notice when the data is loaded in that a warning message will immediately pop up. Before you really start digging into the modeling and analysis, you're going to need to perform some cleaning. Take some time to browse the structure of the data and look over the informational spreadsheets to understand the data values. Make some decisions on which features to keep, which features to drop, and if any revisions need to be made on data formats. It'll be a good idea to create a function with pre-processing steps, since you'll need to clean all of the datasets before you work with them."
   ]
  },
  {
   "cell_type": "markdown",
   "metadata": {},
   "source": [
    "## Part 1: Customer Segmentation Report\n",
    "\n",
    "The main bulk of your analysis will come in this part of the project. Here, you should use unsupervised learning techniques to describe the relationship between the demographics of the company's existing customers and the general population of Germany. By the end of this part, you should be able to describe parts of the general population that are more likely to be part of the mail-order company's main customer base, and which parts of the general population are less so."
   ]
  },
  {
   "cell_type": "markdown",
   "metadata": {},
   "source": [
    "### load all the dependencies"
   ]
  },
  {
   "cell_type": "code",
   "execution_count": 1,
   "metadata": {},
   "outputs": [
    {
     "name": "stderr",
     "output_type": "stream",
     "text": [
      "/anaconda3/lib/python3.7/site-packages/lightgbm/__init__.py:46: UserWarning: Starting from version 2.2.1, the library file in distribution wheels for macOS is built by the Apple Clang (Xcode_8.3.3) compiler.\n",
      "This means that in case of installing LightGBM from PyPI via the ``pip install lightgbm`` command, you don't need to install the gcc compiler anymore.\n",
      "Instead of that, you need to install the OpenMP library, which is required for running LightGBM on the system with the Apple Clang compiler.\n",
      "You can install the OpenMP library by the following command: ``brew install libomp``.\n",
      "  \"You can install the OpenMP library by the following command: ``brew install libomp``.\", UserWarning)\n"
     ]
    }
   ],
   "source": [
    "import numpy as np\n",
    "import pandas as pd\n",
    "import sys\n",
    "import pickle\n",
    "import time\n",
    "import matplotlib\n",
    "import matplotlib.pyplot as plt\n",
    "import seaborn as sns\n",
    "from joblib import dump, load\n",
    "\n",
    "from sklearn.decomposition import PCA\n",
    "from sklearn.cluster import KMeans\n",
    "from sklearn.pipeline import make_pipeline\n",
    "from sklearn.pipeline import Pipeline\n",
    "from sklearn.impute import SimpleImputer\n",
    "from sklearn.preprocessing import StandardScaler\n",
    "from sklearn.compose import ColumnTransformer\n",
    "from sklearn.model_selection import GridSearchCV\n",
    "from sklearn.externals import joblib\n",
    "\n",
    "import lightgbm as lgb\n",
    "\n",
    "%matplotlib inline"
   ]
  },
  {
   "cell_type": "markdown",
   "metadata": {},
   "source": [
    "### load all the datasets"
   ]
  },
  {
   "cell_type": "code",
   "execution_count": 2,
   "metadata": {},
   "outputs": [
    {
     "name": "stderr",
     "output_type": "stream",
     "text": [
      "/anaconda3/lib/python3.7/site-packages/IPython/core/interactiveshell.py:3049: DtypeWarning: Columns (18,19) have mixed types. Specify dtype option on import or set low_memory=False.\n",
      "  interactivity=interactivity, compiler=compiler, result=result)\n"
     ]
    },
    {
     "name": "stdout",
     "output_type": "stream",
     "text": [
      "(891221, 366)\n",
      "(191652, 369)\n"
     ]
    }
   ],
   "source": [
    "feat_info =pd.read_csv('documented_features.csv', sep=',')\n",
    "azdias = pd.read_csv('azdias.csv', sep=',')\n",
    "customers = pd.read_csv('customers.csv', sep=',')\n",
    "print(azdias.shape)\n",
    "print(customers.shape)"
   ]
  },
  {
   "cell_type": "markdown",
   "metadata": {},
   "source": [
    "### Data preprocessing\n",
    "The below function \"clean_data\" prepare data for PCA input"
   ]
  },
  {
   "cell_type": "code",
   "execution_count": 3,
   "metadata": {},
   "outputs": [],
   "source": [
    "def clean_data(raw_data, data_dict):\n",
    "    '''Processes AZDIAS data\n",
    "        - Converts missing values to np.nan using loaded features table\n",
    "        - Drops unwanted columns and rows\n",
    "        - Perfroms feature enginerring\n",
    "    \n",
    "    Args:\n",
    "        df (pd.Dataframe): data to be cleaned\n",
    "        feat_info (pd.Dataframe): feature information\n",
    "    \n",
    "    Returns:\n",
    "        cleaned_df (pd.Dataframe): cleaned rows\n",
    "    '''\n",
    "    \n",
    "    clean_df = raw_data.copy()\n",
    "    feat_info = data_dict.copy()\n",
    "#     feat_info['missing_or_unknown'] = feat_info['missing_or_unknown'].apply(parse_missing)\n",
    "    feat_info['missing_or_unknown'] = feat_info['missing_or_unknown'].apply(lambda X:X[1:-1].split(','))\n",
    "    \n",
    "    # drop columns: (1) attributes not in the \"DIAS Attributes - Values 2017 .xlsx\"\n",
    "    missing_from_feat_info = set(clean_df.columns.values).difference(feat_info.attribute.values)\n",
    "    clean_df.drop(list(missing_from_feat_info), axis='columns', inplace=True)\n",
    "    \n",
    "    # drop columns: (2) attributes with large number of missing values\n",
    "    missing_values = pd.Series(feat_info['missing_or_unknown'].values, index=feat_info.attribute).to_dict()\n",
    "    clean_df[clean_df.isin(missing_values)] = np.nan\n",
    "    # (3) Drop columns with KBA_\n",
    "    to_drop = ['TITEL_KZ', \n",
    "        'D19_TELKO_ONLINE_DATUM', \n",
    "        'D19_BANKEN_OFFLINE_DATUM', \n",
    "        'D19_TELKO_OFFLINE_DATUM', \n",
    "        'D19_BANKEN_ONLINE_DATUM', \n",
    "        'AGER_TYP', \n",
    "        'D19_BANKEN_DATUM',  \n",
    "        'D19_TELKO_DATUM', \n",
    "        'D19_VERSAND_OFFLINE_DATUM', \n",
    "        'D19_GESAMT_OFFLINE_DATUM', \n",
    "        'D19_VERSAND_ONLINE_DATUM', \n",
    "        'KBA05_BAUMAX',\n",
    "        'D19_GESAMT_ONLINE_DATUM', \n",
    "        'GEBURTSJAHR',\n",
    "        'D19_GESAMT_DATUM', \n",
    "        'ALTER_HH', \n",
    "        'WOHNLAGE',\n",
    "        'KBA13_ALTERHALTER_30', \n",
    "        'KBA13_ALTERHALTER_45', \n",
    "        'KBA13_ALTERHALTER_60',\n",
    "        'KBA13_ALTERHALTER_61',\n",
    "        'KBA13_BJ_1999',\n",
    "        'KBA13_BJ_2000', \n",
    "        'KBA13_BJ_2004', \n",
    "        'KBA13_BJ_2006',\n",
    "        'KBA13_BJ_2008',\n",
    "        'KBA13_BJ_2009',\n",
    "        'KBA13_HALTER_20', \n",
    "        'KBA13_HALTER_25',\n",
    "        'KBA13_HALTER_30',\n",
    "        'KBA13_HALTER_35', \n",
    "        'KBA13_HALTER_40', \n",
    "        'KBA13_HALTER_45',\n",
    "        'KBA13_HALTER_50', \n",
    "        'KBA13_HALTER_55',\n",
    "        'KBA13_HALTER_60',\n",
    "        'KBA13_HALTER_65',\n",
    "        'KBA13_HALTER_66',\n",
    "        'KBA13_KW_0_60', \n",
    "        'KBA13_KW_110', \n",
    "        'KBA13_KW_120', \n",
    "        'KBA13_KW_121',\n",
    "        'KBA13_KW_30', \n",
    "        'KBA13_KW_40',\n",
    "        'KBA13_KW_50', \n",
    "        'KBA13_KW_60',\n",
    "        'KBA13_KW_61_120', \n",
    "        'KBA13_KW_70', \n",
    "        'KBA13_KW_80',\n",
    "        'KBA13_KW_90']\n",
    "    clean_df = clean_df.drop(to_drop, axis='columns')\n",
    "    \n",
    "    to_replace = {1:0, 2:1, 3:0, 4:1, 5:0, 6:1, 7:1, 8:0, 9:1, 10:0, 11:1, 12:0, 13:1, 14:0, 15:1}\n",
    "    clean_df['movement'] = clean_df['PRAEGENDE_JUGENDJAHRE'].replace(to_replace)  \n",
    "    clean_df.drop(['PRAEGENDE_JUGENDJAHRE'], axis=1, inplace=True)\n",
    "    \n",
    "    # (4) drop columns:  column with too many levels¶\n",
    "    categorical_feat_cols =np.intersect1d(clean_df.columns.values, feat_info[(feat_info.type=='categorical')].attribute)\n",
    "    cat_nunique=clean_df[list(categorical_feat_cols)].nunique().sort_values(ascending=False)\n",
    "    cat_to_encode = cat_nunique[cat_nunique>2]\n",
    "    clean_df = clean_df.drop(columns=cat_to_encode.index, axis=0)\n",
    "    \n",
    "    # (5) Other column to drop\n",
    "    \n",
    "    to_drop = ['MIN_GEBAEUDEJAHR']\n",
    "    clean_df = clean_df.drop(to_drop, axis='columns')\n",
    "    \n",
    "    \n",
    "    # drop rows: (1) Missing more than 10 variables\n",
    "    row_threshold =10\n",
    "    missing_by_row = clean_df.isnull().sum(axis=1)\n",
    "    clean_df = clean_df[missing_by_row <= row_threshold]\n",
    "\n",
    "    \n",
    "    # Re-encode categorical variable(s) to be kept in the analysis\n",
    "    recoded = pd.get_dummies(clean_df['OST_WEST_KZ'])\n",
    "    clean_df.drop('OST_WEST_KZ', axis=1, inplace=True)\n",
    "    clean_df = pd.concat([clean_df, recoded], axis=1)\n",
    "\n",
    "    # Return the cleaned dataframe and dropped rows.\n",
    "    return clean_df"
   ]
  },
  {
   "cell_type": "code",
   "execution_count": 4,
   "metadata": {},
   "outputs": [
    {
     "name": "stdout",
     "output_type": "stream",
     "text": [
      "(737067, 208)\n",
      "(134244, 208)\n"
     ]
    }
   ],
   "source": [
    "azdias_clean=clean_data(azdias, feat_info)\n",
    "customers_clean=clean_data(customers, feat_info)\n",
    "print(azdias_clean.shape)\n",
    "print(customers_clean.shape)"
   ]
  },
  {
   "cell_type": "code",
   "execution_count": 5,
   "metadata": {},
   "outputs": [],
   "source": [
    "# azdias_clean.to_csv('azdias_clean.csv', sep=',',index=False)\n",
    "# customers_clean.to_csv('customers_clean.csv', sep=',',index=False)"
   ]
  },
  {
   "cell_type": "markdown",
   "metadata": {},
   "source": [
    "### PCA (Principal Component Analysis) & Kmeans Clustering"
   ]
  },
  {
   "cell_type": "markdown",
   "metadata": {},
   "source": [
    "Function \"get_cluster_props\" compare the proportion of data in each cluster for the customer data to the proportion of data in each cluster for the general population; Function \"get_PCA_components\" maps weights for the principal component to corresponding feature names and then print the linked values, sorted by weight"
   ]
  },
  {
   "cell_type": "code",
   "execution_count": 6,
   "metadata": {},
   "outputs": [],
   "source": [
    "def get_cluster_props():\n",
    "\n",
    "    pop = pd.Series(population_labels)\n",
    "    cust = pd.Series(customer_labels)\n",
    "\n",
    "    ax1 = plt.subplot(211)\n",
    "    plt.bar(pop.value_counts().index, pop.value_counts() / pop.value_counts().sum())    \n",
    "    plt.ylabel('Population %')\n",
    "\n",
    "    ax2 = plt.subplot(212, sharey=ax1)\n",
    "    plt.bar(cust.value_counts().index, cust.value_counts() / cust.value_counts().sum())   \n",
    "    plt.ylabel('Customer %')\n",
    "\n",
    "    plt.show()\n",
    "def get_PCA_components(features, components, i):\n",
    "    \n",
    "    feature_weights = dict(zip(features, components[i]))\n",
    "    feature_weights_sorted = sorted(feature_weights.items(), key=lambda kv: kv[1])\n",
    "    print('Lowest:')\n",
    "    for feature, weight in feature_weights_sorted[:3]:\n",
    "        print('\\t{:20} {:.3f}'.format(feature, weight))\n",
    "        \n",
    "    print('Highest:')\n",
    "    for feature, weight in feature_weights_sorted[-3:]:\n",
    "        print('\\t{:20} {:.3f}'.format(feature, weight))"
   ]
  },
  {
   "cell_type": "markdown",
   "metadata": {},
   "source": [
    "The pipeline is composed of four steps <br>\n",
    "(1) Impute the missing value data by median.  <br>\n",
    "(2) Use StandardScaler to scale all the features.  <br>\n",
    "(3) Principal Component Analysis (PCA) was performed to reduce dimension because of the large number of features <br>\n",
    "(4) Cluster the data based on demographics of the general population "
   ]
  },
  {
   "cell_type": "code",
   "execution_count": 7,
   "metadata": {},
   "outputs": [
    {
     "data": {
      "text/plain": [
       "Pipeline(memory=None,\n",
       "     steps=[('impute', SimpleImputer(copy=True, fill_value=None, missing_values=nan,\n",
       "       strategy='median', verbose=0)), ('scale', StandardScaler(copy=True, with_mean=True, with_std=True)), ('pca', PCA(copy=True, iterated_power='auto', n_components=125, random_state=None,\n",
       "  svd_solver='auto', tol=0.0,...n_init=10, n_jobs=None, precompute_distances='auto',\n",
       "    random_state=None, tol=0.0001, verbose=0))])"
      ]
     },
     "execution_count": 7,
     "metadata": {},
     "output_type": "execute_result"
    }
   ],
   "source": [
    "pca_n = 125\n",
    "n_clusters = 8\n",
    "\n",
    "model = Pipeline([\n",
    "        ('impute', SimpleImputer(missing_values=np.nan, strategy='median')),\n",
    "        ('scale', StandardScaler()),\n",
    "        ('pca', PCA(pca_n)),\n",
    "        ('kmeans', KMeans(n_clusters=n_clusters))\n",
    "])\n",
    "model.fit(azdias_clean.values)"
   ]
  },
  {
   "cell_type": "code",
   "execution_count": 8,
   "metadata": {},
   "outputs": [],
   "source": [
    "dump(model, 'cluster_model.joblib') \n",
    "model = load('cluster_model.joblib') "
   ]
  },
  {
   "cell_type": "markdown",
   "metadata": {},
   "source": [
    "### Model Output Analysis"
   ]
  },
  {
   "cell_type": "code",
   "execution_count": 9,
   "metadata": {},
   "outputs": [],
   "source": [
    "# What kinds of people are part of a cluster that is overrepresented in the customer data \n",
    "# compared to the general population?\n",
    "customer_labels = model.predict(customers_clean)\n",
    "population_labels = model.predict(azdias_clean)\n",
    "cust = pd.Series(customer_labels)\n",
    "cust_p = cust.value_counts() / cust.value_counts().sum()\n",
    "cust_p.sort_index()\n",
    "cust2 = pd.Series(population_labels)\n",
    "cust_p2 = cust2.value_counts() / cust2.value_counts().sum()"
   ]
  },
  {
   "cell_type": "code",
   "execution_count": 10,
   "metadata": {},
   "outputs": [
    {
     "name": "stdout",
     "output_type": "stream",
     "text": [
      "PCA 0\n",
      "Lowest:\n",
      "\tHH_EINKOMMEN_SCORE   -0.161\n",
      "\tCAMEO_DEUG_2015      -0.152\n",
      "\tPLZ8_ANTG3           -0.135\n",
      "Highest:\n",
      "\tLP_STATUS_GROB       0.145\n",
      "\tKBA05_ANTG1          0.148\n",
      "\tMOBI_REGIO           0.152\n",
      "\n",
      "PCA 1\n",
      "Lowest:\n",
      "\tKONSUMNAEHE          -0.153\n",
      "\tMOBI_REGIO           -0.143\n",
      "\tKBA13_SITZE_5        -0.139\n",
      "Highest:\n",
      "\tKBA13_SEG_OBEREMITTELKLASSE 0.161\n",
      "\tEWDICHTE             0.174\n",
      "\tKBA13_HERST_BMW_BENZ 0.182\n",
      "\n",
      "PCA 2\n",
      "Lowest:\n",
      "\tALTERSKATEGORIE_GROB -0.252\n",
      "\tFINANZ_VORSORGER     -0.218\n",
      "\tSEMIO_ERL            -0.203\n",
      "Highest:\n",
      "\tSEMIO_PFLICHT        0.233\n",
      "\tSEMIO_REL            0.241\n",
      "\tFINANZ_SPARER        0.246\n",
      "\n"
     ]
    }
   ],
   "source": [
    "# PCA\n",
    "for i in range(3):\n",
    "    print('PCA', i)\n",
    "    get_PCA_components(azdias_clean.columns.values, model.named_steps['pca'].components_, i)\n",
    "    print()"
   ]
  },
  {
   "cell_type": "code",
   "execution_count": 11,
   "metadata": {},
   "outputs": [
    {
     "data": {
      "text/html": [
       "<div>\n",
       "<style scoped>\n",
       "    .dataframe tbody tr th:only-of-type {\n",
       "        vertical-align: middle;\n",
       "    }\n",
       "\n",
       "    .dataframe tbody tr th {\n",
       "        vertical-align: top;\n",
       "    }\n",
       "\n",
       "    .dataframe thead th {\n",
       "        text-align: right;\n",
       "    }\n",
       "</style>\n",
       "<table border=\"1\" class=\"dataframe\">\n",
       "  <thead>\n",
       "    <tr style=\"text-align: right;\">\n",
       "      <th></th>\n",
       "      <th>0</th>\n",
       "      <th>1</th>\n",
       "      <th>2</th>\n",
       "    </tr>\n",
       "    <tr>\n",
       "      <th>cluster</th>\n",
       "      <th></th>\n",
       "      <th></th>\n",
       "      <th></th>\n",
       "    </tr>\n",
       "  </thead>\n",
       "  <tbody>\n",
       "    <tr>\n",
       "      <th>7</th>\n",
       "      <td>3.281955</td>\n",
       "      <td>-1.773045</td>\n",
       "      <td>-2.234624</td>\n",
       "    </tr>\n",
       "    <tr>\n",
       "      <th>6</th>\n",
       "      <td>-2.531029</td>\n",
       "      <td>1.457357</td>\n",
       "      <td>-2.209463</td>\n",
       "    </tr>\n",
       "    <tr>\n",
       "      <th>5</th>\n",
       "      <td>0.875023</td>\n",
       "      <td>-0.148622</td>\n",
       "      <td>2.192177</td>\n",
       "    </tr>\n",
       "    <tr>\n",
       "      <th>4</th>\n",
       "      <td>-1.454947</td>\n",
       "      <td>-5.481904</td>\n",
       "      <td>-0.891820</td>\n",
       "    </tr>\n",
       "    <tr>\n",
       "      <th>3</th>\n",
       "      <td>-7.073286</td>\n",
       "      <td>-1.807264</td>\n",
       "      <td>-1.059461</td>\n",
       "    </tr>\n",
       "    <tr>\n",
       "      <th>2</th>\n",
       "      <td>3.832134</td>\n",
       "      <td>-2.309365</td>\n",
       "      <td>2.758494</td>\n",
       "    </tr>\n",
       "    <tr>\n",
       "      <th>1</th>\n",
       "      <td>-3.933314</td>\n",
       "      <td>3.067590</td>\n",
       "      <td>2.539319</td>\n",
       "    </tr>\n",
       "    <tr>\n",
       "      <th>0</th>\n",
       "      <td>4.122586</td>\n",
       "      <td>4.990256</td>\n",
       "      <td>-0.959377</td>\n",
       "    </tr>\n",
       "  </tbody>\n",
       "</table>\n",
       "</div>"
      ],
      "text/plain": [
       "                0         1         2\n",
       "cluster                              \n",
       "7        3.281955 -1.773045 -2.234624\n",
       "6       -2.531029  1.457357 -2.209463\n",
       "5        0.875023 -0.148622  2.192177\n",
       "4       -1.454947 -5.481904 -0.891820\n",
       "3       -7.073286 -1.807264 -1.059461\n",
       "2        3.832134 -2.309365  2.758494\n",
       "1       -3.933314  3.067590  2.539319\n",
       "0        4.122586  4.990256 -0.959377"
      ]
     },
     "execution_count": 11,
     "metadata": {},
     "output_type": "execute_result"
    }
   ],
   "source": [
    "# First three PCA values for Cluster Centroids\n",
    "clusters_df=pd.DataFrame(model.named_steps['kmeans'].cluster_centers_[:,:3])\n",
    "clusters_df.index.name = 'cluster'\n",
    "clusters_df.sort_index(ascending=False)"
   ]
  },
  {
   "cell_type": "markdown",
   "metadata": {},
   "source": [
    "Difference in proportion between customers and general audience: positive is overrepresented and negative is underrepresented"
   ]
  },
  {
   "cell_type": "code",
   "execution_count": 12,
   "metadata": {},
   "outputs": [
    {
     "data": {
      "image/png": "[encoded data removed]",
      "text/plain": [
       "<Figure size 432x288 with 2 Axes>"
      ]
     },
     "metadata": {
      "needs_background": "light"
     },
     "output_type": "display_data"
    }
   ],
   "source": [
    "color_map = matplotlib.cm.get_cmap('bwr')\n",
    "\n",
    "plt.pcolor(clusters_df, cmap=color_map, vmin=-4.5, vmax=4.5);\n",
    "plt.title('First three PCA values for Clusters')\n",
    "plt.ylabel('cluster')\n",
    "plt.xlabel('PCA')\n",
    "\n",
    "plt.yticks(np.arange(0.5, len(clusters_df.index)), clusters_df.index)\n",
    "plt.xticks(np.arange(0.5, 3), clusters_df.index)\n",
    "\n",
    "plt.colorbar()\n",
    "\n",
    "plt.show()"
   ]
  },
  {
   "cell_type": "code",
   "execution_count": 13,
   "metadata": {},
   "outputs": [
    {
     "data": {
      "image/png": "[encoded data removed]",
      "text/plain": [
       "<Figure size 432x288 with 2 Axes>"
      ]
     },
     "metadata": {
      "needs_background": "light"
     },
     "output_type": "display_data"
    }
   ],
   "source": [
    "# Five clusters\n",
    "get_cluster_props()"
   ]
  },
  {
   "cell_type": "code",
   "execution_count": 14,
   "metadata": {},
   "outputs": [],
   "source": [
    "prop_diff=cust_p.sort_index()-cust_p2.sort_index()"
   ]
  },
  {
   "cell_type": "code",
   "execution_count": 15,
   "metadata": {},
   "outputs": [
    {
     "data": {
      "image/png": "[encoded data removed]",
      "text/plain": [
       "<Figure size 1008x576 with 1 Axes>"
      ]
     },
     "metadata": {
      "needs_background": "light"
     },
     "output_type": "display_data"
    }
   ],
   "source": [
    "#Calculate differece of proportions\n",
    "# prop_diff = cust_clust_freq[:, 2] - gen_clust_freq[:, 2]\n",
    "positive= prop_diff > 0\n",
    "\n",
    "# create plot\n",
    "fig, ax = plt.subplots(figsize=(14, 8))\n",
    "index =  np.arange(n_clusters)\n",
    "bar_width = 0.35\n",
    "# bar_width = 0.25\n",
    "opacity = 0.8\n",
    " \n",
    "diff = plt.bar(index, prop_diff, bar_width,\n",
    "                 alpha=opacity,\n",
    "                 color=np.vectorize({True: 'k', False: 'r'}.get)(positive)\n",
    "              )\n",
    "\n",
    " \n",
    "plt.xlabel('# of Cluster')\n",
    "plt.ylabel('Difference of proportions')\n",
    "plt.title('Difference of Proportions of Clusters for General and Customer Data')\n",
    "plt.xticks(index)\n",
    " \n",
    "plt.tight_layout()\n",
    "sns.set(style=\"whitegrid\")\n",
    "sns.despine();"
   ]
  },
  {
   "cell_type": "markdown",
   "metadata": {},
   "source": [
    "## Part 2: Supervised Learning Model\n",
    "\n",
    "Now that you've found which parts of the population are more likely to be customers of the mail-order company, it's time to build a prediction model. Each of the rows in the \"MAILOUT\" data files represents an individual that was targeted for a mailout campaign. Ideally, we should be able to use the demographic information from each individual to decide whether or not it will be worth it to include that person in the campaign.\n",
    "\n",
    "The \"MAILOUT\" data has been split into two approximately equal parts, each with almost 43 000 data rows. In this part, you can verify your model with the \"TRAIN\" partition, which includes a column, \"RESPONSE\", that states whether or not a person became a customer of the company following the campaign. In the next part, you'll need to create predictions on the \"TEST\" partition, where the \"RESPONSE\" column has been withheld."
   ]
  },
  {
   "cell_type": "markdown",
   "metadata": {},
   "source": [
    "### Load all the datasets"
   ]
  },
  {
   "cell_type": "code",
   "execution_count": 16,
   "metadata": {},
   "outputs": [
    {
     "name": "stderr",
     "output_type": "stream",
     "text": [
      "/anaconda3/lib/python3.7/site-packages/IPython/core/interactiveshell.py:3049: DtypeWarning: Columns (18,19) have mixed types. Specify dtype option on import or set low_memory=False.\n",
      "  interactivity=interactivity, compiler=compiler, result=result)\n"
     ]
    },
    {
     "name": "stdout",
     "output_type": "stream",
     "text": [
      "(42962, 367)\n",
      "(42833, 366)\n"
     ]
    }
   ],
   "source": [
    "feat_info =pd.read_csv('documented_features.csv', sep=',')\n",
    "mailout_train_raw =pd.read_csv('Udacity_MAILOUT_052018_TRAIN.csv', sep=',')\n",
    "mailout_test_raw =pd.read_csv('Udacity_MAILOUT_052018_TEST.csv', sep=',')\n",
    "print(mailout_train_raw.shape)\n",
    "print(mailout_test_raw.shape)"
   ]
  },
  {
   "cell_type": "markdown",
   "metadata": {},
   "source": [
    "### Data Processing\n",
    "The below function clean and transform data into prediction-ready array"
   ]
  },
  {
   "cell_type": "code",
   "execution_count": 17,
   "metadata": {},
   "outputs": [],
   "source": [
    "def clean_and_transform_data(raw_data, feature_dict):\n",
    "    '''\n",
    "    '''\n",
    "    \n",
    "    clean_df = raw_data.copy()\n",
    "    feat_info = feature_dict.copy()\n",
    "    # Parse missing_or_known string into a list\n",
    "    feat_info['missing_or_unknown'] = feat_info['missing_or_unknown'].apply(lambda X:X[1:-1].split(','))\n",
    "    \n",
    "    #(1) Recoding variables and missing values\n",
    "    # For the following columns, recode 10's to 0 \n",
    "    # Reason:\"no transactions known\" is coded with number 10 while 1~9 indicates an ordinal magnitude\n",
    "    recode = ['D19_BANKEN_DATUM', 'D19_BANKEN_OFFLINE_DATUM',\n",
    "       'D19_BANKEN_ONLINE_DATUM', 'D19_GESAMT_DATUM',\n",
    "       'D19_GESAMT_OFFLINE_DATUM', 'D19_GESAMT_ONLINE_DATUM',\n",
    "       'D19_TELKO_DATUM', 'D19_TELKO_OFFLINE_DATUM',\n",
    "       'D19_TELKO_ONLINE_DATUM','D19_VERSAND_DATUM',\n",
    "             'D19_VERSAND_OFFLINE_DATUM','D19_VERSAND_ONLINE_DATUM']\n",
    "    clean_df[recode] = clean_df[recode].replace(10, 0)\n",
    "    \n",
    "    recode2 = {1:0, 2:1, 3:0, 4:1, 5:0, 6:1, 7:1, 8:0, 9:1, 10:0, 11:1, 12:0, 13:1, 14:0, 15:1}\n",
    "    clean_df['movement'] = clean_df['PRAEGENDE_JUGENDJAHRE'].replace(recode2)  \n",
    "    clean_df.drop(['PRAEGENDE_JUGENDJAHRE'], axis=1, inplace=True)\n",
    "    \n",
    "    # According to the feature dictionary, all missing values should be recode as NAN for consistency\n",
    "    missing_values = pd.Series(feat_info['missing_or_unknown'].values, index=feat_info.attribute).to_dict()\n",
    "    clean_df[clean_df.isin(missing_values)] = np.nan\n",
    "    \n",
    "    \n",
    "    # (2) drop variables with large number of missing values (more than 30% missing)\n",
    "    to_drop = ['TITEL_KZ',\n",
    "            'D19_TELKO_ONLINE_DATUM',\n",
    "            'D19_BANKEN_OFFLINE_DATUM',\n",
    "            'D19_TELKO_OFFLINE_DATUM',\n",
    "            'D19_BANKEN_ONLINE_DATUM',\n",
    "            'D19_BANKEN_DATUM',\n",
    "            'D19_TELKO_DATUM',\n",
    "            'KBA05_BAUMAX',\n",
    "            'D19_VERSAND_ONLINE_DATUM',\n",
    "            'D19_VERSAND_OFFLINE_DATUM',\n",
    "            'D19_GESAMT_ONLINE_DATUM',\n",
    "            'AGER_TYP',\n",
    "            'D19_GESAMT_OFFLINE_DATUM',\n",
    "            'WOHNLAGE',\n",
    "            'GEBURTSJAHR'\n",
    "           ]\n",
    "    clean_df = clean_df.drop(to_drop, axis='columns')\n",
    "    \n",
    "     # (3) drop categorical variables with large number of levels and least indication to the response variable\n",
    "    to_drop = ['CAMEO_DEU_2015',\n",
    "            'LP_LEBENSPHASE_FEIN',\n",
    "            'LP_FAMILIE_FEIN',\n",
    "            'GFK_URLAUBERTYP',\n",
    "            'LP_STATUS_FEIN',\n",
    "            'D19_KONSUMTYP',\n",
    "            'CJT_GESAMTTYP',\n",
    "            'FINANZTYP',\n",
    "            'GEBAEUDETYP',\n",
    "            'LP_FAMILIE_GROB',\n",
    "            'EINGEFUEGT_AM',\n",
    "               'LNR'\n",
    "           ]\n",
    "    clean_df = clean_df.drop(to_drop, axis='columns')\n",
    "    \n",
    "    # (4) Type Conversion for on-hot encoding\n",
    "    categorical_feat_cols =np.intersect1d(clean_df.columns.values, feat_info[(feat_info.type=='categorical')].attribute)\n",
    "    clean_df[categorical_feat_cols]=clean_df[categorical_feat_cols].astype(\"object\")\n",
    "    clean_df = pd.get_dummies(clean_df)\n",
    "    \n",
    "    \n",
    "    # (5) Impute missing values based on data types\n",
    "    numerical_columns = feat_info[feat_info.type == 'numeric'].index\n",
    "    numerical_columns = set(numerical_columns).intersection(set(clean_df.columns))\n",
    "    categorical_columns = set(clean_df.columns).difference(numerical_columns)\n",
    "    \n",
    "    numerical_columns = list(numerical_columns)\n",
    "    categorical_columns =list(categorical_columns)\n",
    "    \n",
    "    all_training_columns = numerical_columns + categorical_columns\n",
    "       \n",
    "   \n",
    "    numerical_pipeline = make_pipeline(\n",
    "                            SimpleImputer(strategy='median'),\n",
    "                            StandardScaler())\n",
    "    \n",
    "    categorical_pipeline = make_pipeline(\n",
    "                                SimpleImputer(strategy='most_frequent'))\n",
    "    \n",
    "    \n",
    "    processing_pipeline = ColumnTransformer(\n",
    "        [('numerical_preprocessing', numerical_pipeline, numerical_columns),\n",
    "         ('categorical_preprocessing', categorical_pipeline, categorical_columns)],\n",
    "        remainder='drop')\n",
    "    \n",
    "    # pandas dataframe would be converted as array after this step\n",
    "    data_array = processing_pipeline.fit_transform(clean_df)\n",
    "\n",
    "    return data_array, all_training_columns"
   ]
  },
  {
   "cell_type": "code",
   "execution_count": 18,
   "metadata": {},
   "outputs": [
    {
     "name": "stdout",
     "output_type": "stream",
     "text": [
      "(42962, 450)\n",
      "(42833, 450)\n"
     ]
    }
   ],
   "source": [
    "y = mailout_train_raw.RESPONSE\n",
    "\n",
    "mailout_train = mailout_train_raw.drop(['RESPONSE'], axis=1)\n",
    "X_train=clean_and_transform_data(mailout_train, feat_info)[0]\n",
    "print(X_train.shape)\n",
    "\n",
    "X_test=clean_and_transform_data(mailout_test_raw, feat_info)[0]\n",
    "print(X_test.shape)"
   ]
  },
  {
   "cell_type": "code",
   "execution_count": 19,
   "metadata": {},
   "outputs": [],
   "source": [
    "all_training_columns =clean_and_transform_data(mailout_train, feat_info)[1]"
   ]
  },
  {
   "cell_type": "markdown",
   "metadata": {},
   "source": [
    "### Modeling & Evaluation"
   ]
  },
  {
   "cell_type": "code",
   "execution_count": 20,
   "metadata": {},
   "outputs": [
    {
     "data": {
      "text/plain": [
       "{'boosting_type': 'gbdt',\n",
       " 'class_weight': None,\n",
       " 'colsample_bytree': 1.0,\n",
       " 'importance_type': 'split',\n",
       " 'learning_rate': 0.1,\n",
       " 'max_depth': -1,\n",
       " 'min_child_samples': 20,\n",
       " 'min_child_weight': 0.001,\n",
       " 'min_split_gain': 0.0,\n",
       " 'n_estimators': 100,\n",
       " 'n_jobs': -1,\n",
       " 'num_leaves': 31,\n",
       " 'objective': 'binary',\n",
       " 'random_state': None,\n",
       " 'reg_alpha': 0.0,\n",
       " 'reg_lambda': 0.0,\n",
       " 'silent': True,\n",
       " 'subsample': 1.0,\n",
       " 'subsample_for_bin': 200000,\n",
       " 'subsample_freq': 0,\n",
       " 'metric': 'auc'}"
      ]
     },
     "execution_count": 20,
     "metadata": {},
     "output_type": "execute_result"
    }
   ],
   "source": [
    "gbm_estimator = lgb.LGBMClassifier(objective='binary', metric='auc')\n",
    "gbm_estimator.get_params()"
   ]
  },
  {
   "cell_type": "code",
   "execution_count": 21,
   "metadata": {},
   "outputs": [
    {
     "name": "stderr",
     "output_type": "stream",
     "text": [
      "/anaconda3/lib/python3.7/site-packages/lightgbm/engine.py:118: UserWarning: Found `num_iterations` in params. Will use it instead of argument\n",
      "  warnings.warn(\"Found `{}` in params. Will use it instead of argument\".format(alias))\n",
      "/anaconda3/lib/python3.7/site-packages/lightgbm/engine.py:118: UserWarning: Found `num_iterations` in params. Will use it instead of argument\n",
      "  warnings.warn(\"Found `{}` in params. Will use it instead of argument\".format(alias))\n",
      "/anaconda3/lib/python3.7/site-packages/lightgbm/engine.py:118: UserWarning: Found `num_iterations` in params. Will use it instead of argument\n",
      "  warnings.warn(\"Found `{}` in params. Will use it instead of argument\".format(alias))\n",
      "/anaconda3/lib/python3.7/site-packages/lightgbm/engine.py:118: UserWarning: Found `num_iterations` in params. Will use it instead of argument\n",
      "  warnings.warn(\"Found `{}` in params. Will use it instead of argument\".format(alias))\n",
      "/anaconda3/lib/python3.7/site-packages/lightgbm/engine.py:118: UserWarning: Found `num_iterations` in params. Will use it instead of argument\n",
      "  warnings.warn(\"Found `{}` in params. Will use it instead of argument\".format(alias))\n",
      "/anaconda3/lib/python3.7/site-packages/lightgbm/engine.py:118: UserWarning: Found `num_iterations` in params. Will use it instead of argument\n",
      "  warnings.warn(\"Found `{}` in params. Will use it instead of argument\".format(alias))\n",
      "/anaconda3/lib/python3.7/site-packages/lightgbm/engine.py:118: UserWarning: Found `num_iterations` in params. Will use it instead of argument\n",
      "  warnings.warn(\"Found `{}` in params. Will use it instead of argument\".format(alias))\n",
      "/anaconda3/lib/python3.7/site-packages/lightgbm/engine.py:118: UserWarning: Found `num_iterations` in params. Will use it instead of argument\n",
      "  warnings.warn(\"Found `{}` in params. Will use it instead of argument\".format(alias))\n",
      "/anaconda3/lib/python3.7/site-packages/lightgbm/engine.py:118: UserWarning: Found `num_iterations` in params. Will use it instead of argument\n",
      "  warnings.warn(\"Found `{}` in params. Will use it instead of argument\".format(alias))\n",
      "/anaconda3/lib/python3.7/site-packages/lightgbm/engine.py:118: UserWarning: Found `num_iterations` in params. Will use it instead of argument\n",
      "  warnings.warn(\"Found `{}` in params. Will use it instead of argument\".format(alias))\n",
      "/anaconda3/lib/python3.7/site-packages/lightgbm/engine.py:118: UserWarning: Found `num_iterations` in params. Will use it instead of argument\n",
      "  warnings.warn(\"Found `{}` in params. Will use it instead of argument\".format(alias))\n"
     ]
    },
    {
     "name": "stdout",
     "output_type": "stream",
     "text": [
      "Elapsed computation time: 0.980 mins\n"
     ]
    }
   ],
   "source": [
    "param_grid = {'learning_rate': [0.01],\n",
    "              'num_iterations': [200],\n",
    "              'boosting_type': ['gbdt','dart'],\n",
    "              'num_leaves': [62],\n",
    "              'random_state': [42]}\n",
    "\n",
    "start_time = time.time()\n",
    "\n",
    "gbm_clf = GridSearchCV(estimator=gbm_estimator, param_grid=param_grid, scoring='roc_auc', cv=5)\n",
    "gbm_result = gbm_clf.fit(X_train, y)\n",
    "\n",
    "elapsed_time = (time.time() - start_time) / 60\n",
    "print('Elapsed computation time: {:.3f} mins'.format(elapsed_time))"
   ]
  },
  {
   "cell_type": "code",
   "execution_count": 22,
   "metadata": {},
   "outputs": [
    {
     "name": "stdout",
     "output_type": "stream",
     "text": [
      "0.7641197373704546\n",
      "LGBMClassifier(boosting_type='dart', class_weight=None, colsample_bytree=1.0,\n",
      "        importance_type='split', learning_rate=0.01, max_depth=-1,\n",
      "        metric='auc', min_child_samples=20, min_child_weight=0.001,\n",
      "        min_split_gain=0.0, n_estimators=100, n_jobs=-1,\n",
      "        num_iterations=200, num_leaves=62, objective='binary',\n",
      "        random_state=42, reg_alpha=0.0, reg_lambda=0.0, silent=True,\n",
      "        subsample=1.0, subsample_for_bin=200000, subsample_freq=0)\n"
     ]
    }
   ],
   "source": [
    "gbm_result\n",
    "print(gbm_clf.best_score_)\n",
    "print(gbm_clf.best_estimator_)"
   ]
  },
  {
   "cell_type": "code",
   "execution_count": 23,
   "metadata": {},
   "outputs": [
    {
     "name": "stdout",
     "output_type": "stream",
     "text": [
      "0.755408 (0.027004) with: {'boosting_type': 'gbdt', 'learning_rate': 0.01, 'num_iterations': 200, 'num_leaves': 62, 'random_state': 42}\n",
      "0.764120 (0.020223) with: {'boosting_type': 'dart', 'learning_rate': 0.01, 'num_iterations': 200, 'num_leaves': 62, 'random_state': 42}\n"
     ]
    }
   ],
   "source": [
    "means = gbm_result.cv_results_['mean_test_score']\n",
    "stds = gbm_result.cv_results_['std_test_score']\n",
    "params = gbm_result.cv_results_['params']\n",
    "for mean, stdev, param in zip(means, stds, params):\n",
    "    print(\"%f (%f) with: %r\" % (mean, stdev, param))"
   ]
  },
  {
   "cell_type": "code",
   "execution_count": 24,
   "metadata": {},
   "outputs": [],
   "source": [
    "pickle.dump(gbm_clf.best_estimator_, open('lightgbm_model.pkl', 'wb'))"
   ]
  },
  {
   "cell_type": "code",
   "execution_count": 25,
   "metadata": {},
   "outputs": [
    {
     "data": {
      "text/plain": [
       "D19_SOZIALES            396\n",
       "VK_DISTANZ              239\n",
       "EINGEZOGENAM_HH_JAHR    237\n",
       "KBA05_HERST3            226\n",
       "D19_KONSUMTYP_MAX       194\n",
       "EXTSEL992               168\n",
       "ALTERSKATEGORIE_FEIN    148\n",
       "KBA13_ANZAHL_PKW        145\n",
       "KBA05_ALTER1            143\n",
       "KBA05_ZUL3              140\n",
       "dtype: int64"
      ]
     },
     "execution_count": 25,
     "metadata": {},
     "output_type": "execute_result"
    }
   ],
   "source": [
    "gbm_model = joblib.load('lightgbm_model.pkl')\n",
    "pd.Series(gbm_model.feature_importances_, index=all_training_columns).sort_values(ascending=False).head(10)"
   ]
  },
  {
   "cell_type": "markdown",
   "metadata": {},
   "source": [
    "### Model Output Analysis"
   ]
  },
  {
   "cell_type": "code",
   "execution_count": 26,
   "metadata": {},
   "outputs": [
    {
     "data": {
      "text/html": [
       "<div>\n",
       "<style scoped>\n",
       "    .dataframe tbody tr th:only-of-type {\n",
       "        vertical-align: middle;\n",
       "    }\n",
       "\n",
       "    .dataframe tbody tr th {\n",
       "        vertical-align: top;\n",
       "    }\n",
       "\n",
       "    .dataframe thead th {\n",
       "        text-align: right;\n",
       "    }\n",
       "</style>\n",
       "<table border=\"1\" class=\"dataframe\">\n",
       "  <thead>\n",
       "    <tr style=\"text-align: right;\">\n",
       "      <th>RESPONSE</th>\n",
       "      <th>0</th>\n",
       "      <th>1</th>\n",
       "    </tr>\n",
       "    <tr>\n",
       "      <th>D19_SOZIALES</th>\n",
       "      <th></th>\n",
       "      <th></th>\n",
       "    </tr>\n",
       "  </thead>\n",
       "  <tbody>\n",
       "    <tr>\n",
       "      <th>0.0</th>\n",
       "      <td>0.274455</td>\n",
       "      <td>0.062640</td>\n",
       "    </tr>\n",
       "    <tr>\n",
       "      <th>1.0</th>\n",
       "      <td>0.303942</td>\n",
       "      <td>0.836689</td>\n",
       "    </tr>\n",
       "    <tr>\n",
       "      <th>2.0</th>\n",
       "      <td>0.042455</td>\n",
       "      <td>0.017897</td>\n",
       "    </tr>\n",
       "    <tr>\n",
       "      <th>3.0</th>\n",
       "      <td>0.246228</td>\n",
       "      <td>0.051454</td>\n",
       "    </tr>\n",
       "    <tr>\n",
       "      <th>4.0</th>\n",
       "      <td>0.091151</td>\n",
       "      <td>0.026846</td>\n",
       "    </tr>\n",
       "    <tr>\n",
       "      <th>5.0</th>\n",
       "      <td>0.041768</td>\n",
       "      <td>0.004474</td>\n",
       "    </tr>\n",
       "  </tbody>\n",
       "</table>\n",
       "</div>"
      ],
      "text/plain": [
       "RESPONSE             0         1\n",
       "D19_SOZIALES                    \n",
       "0.0           0.274455  0.062640\n",
       "1.0           0.303942  0.836689\n",
       "2.0           0.042455  0.017897\n",
       "3.0           0.246228  0.051454\n",
       "4.0           0.091151  0.026846\n",
       "5.0           0.041768  0.004474"
      ]
     },
     "execution_count": 26,
     "metadata": {},
     "output_type": "execute_result"
    }
   ],
   "source": [
    "feature = 'D19_SOZIALES'\n",
    "totals = mailout_train_raw.groupby('RESPONSE')[feature].count()\n",
    "counts = mailout_train_raw.groupby('RESPONSE')[feature].value_counts()\n",
    "percentages = (counts/totals).unstack(level=0)\n",
    "percentages"
   ]
  },
  {
   "cell_type": "markdown",
   "metadata": {},
   "source": [
    "The feature importances plot demonstrates that the most important feature is 'D19_SOZIALES', for which description is not available. Even though there is no information available about D19_SOZIALES specifically, Overall D19_* features are related to frequency of using certain group of products. Thus, the method distinguished two groups with high and low transaction activity.So people who are involved in this (D19_SOZIALES) kind of transaction are most likely to respond to the market campaign and become customer of the mail-order company.\n",
    "\n",
    "The next important features are 'EINGESOGENAM_HH_JAHR ' and 'VK_DISTANZ'. Fortunately, the descriptions are not available either.And there are no other similar variables that help interpret their meaning. Would ask the mail-order company for more clarity."
   ]
  },
  {
   "cell_type": "code",
   "execution_count": 27,
   "metadata": {},
   "outputs": [
    {
     "data": {
      "image/png": "[encoded data removed]",
      "text/plain": [
       "<Figure size 432x288 with 1 Axes>"
      ]
     },
     "metadata": {},
     "output_type": "display_data"
    }
   ],
   "source": [
    "ax = percentages.plot.bar(title='Distribution of D19_SOZIALES categories')\n",
    "ax.set(ylabel='% Total');"
   ]
  },
  {
   "cell_type": "markdown",
   "metadata": {},
   "source": [
    "## Part 3: Kaggle Competition\n",
    "\n",
    "Now that you've created a model to predict which individuals are most likely to respond to a mailout campaign, it's time to test that model in competition through Kaggle. If you click on the link [here](http://www.kaggle.com/t/21e6d45d4c574c7fa2d868f0e8c83140), you'll be taken to the competition page where, if you have a Kaggle account, you can enter. If you're one of the top performers, you may have the chance to be contacted by a hiring manager from Arvato or Bertelsmann for an interview!\n",
    "\n",
    "Your entry to the competition should be a CSV file with two columns. The first column should be a copy of \"LNR\", which acts as an ID number for each individual in the \"TEST\" partition. The second column, \"RESPONSE\", should be some measure of how likely each individual became a customer – this might not be a straightforward probability. As you should have found in Part 2, there is a large output class imbalance, where most individuals did not respond to the mailout. Thus, predicting individual classes and using accuracy does not seem to be an appropriate performance evaluation method. Instead, the competition will be using AUC to evaluate performance. The exact values of the \"RESPONSE\" column do not matter as much: only that the higher values try to capture as many of the actual customers as possible, early in the ROC curve sweep."
   ]
  },
  {
   "cell_type": "code",
   "execution_count": 28,
   "metadata": {},
   "outputs": [
    {
     "data": {
      "text/html": [
       "<div>\n",
       "<style scoped>\n",
       "    .dataframe tbody tr th:only-of-type {\n",
       "        vertical-align: middle;\n",
       "    }\n",
       "\n",
       "    .dataframe tbody tr th {\n",
       "        vertical-align: top;\n",
       "    }\n",
       "\n",
       "    .dataframe thead th {\n",
       "        text-align: right;\n",
       "    }\n",
       "</style>\n",
       "<table border=\"1\" class=\"dataframe\">\n",
       "  <thead>\n",
       "    <tr style=\"text-align: right;\">\n",
       "      <th></th>\n",
       "      <th>LNR</th>\n",
       "      <th>RESPONSE</th>\n",
       "    </tr>\n",
       "  </thead>\n",
       "  <tbody>\n",
       "    <tr>\n",
       "      <th>0</th>\n",
       "      <td>1754</td>\n",
       "      <td>0.832231</td>\n",
       "    </tr>\n",
       "    <tr>\n",
       "      <th>1</th>\n",
       "      <td>1770</td>\n",
       "      <td>0.829404</td>\n",
       "    </tr>\n",
       "    <tr>\n",
       "      <th>2</th>\n",
       "      <td>1465</td>\n",
       "      <td>0.848011</td>\n",
       "    </tr>\n",
       "    <tr>\n",
       "      <th>3</th>\n",
       "      <td>1470</td>\n",
       "      <td>0.848007</td>\n",
       "    </tr>\n",
       "    <tr>\n",
       "      <th>4</th>\n",
       "      <td>1478</td>\n",
       "      <td>0.848014</td>\n",
       "    </tr>\n",
       "  </tbody>\n",
       "</table>\n",
       "</div>"
      ],
      "text/plain": [
       "    LNR  RESPONSE\n",
       "0  1754  0.832231\n",
       "1  1770  0.829404\n",
       "2  1465  0.848011\n",
       "3  1470  0.848007\n",
       "4  1478  0.848014"
      ]
     },
     "execution_count": 28,
     "metadata": {},
     "output_type": "execute_result"
    }
   ],
   "source": [
    "# lightgbm Boost\n",
    "lnr = mailout_test_raw.LNR\n",
    "preds = gbm_model.predict_proba(X_test)\n",
    "data_submission = pd.DataFrame({'LNR':lnr, 'RESPONSE':preds[:,0]})\n",
    "data_submission.to_csv('submission.csv', index=False)\n",
    "data_submission.head()"
   ]
  },
  {
   "cell_type": "code",
   "execution_count": null,
   "metadata": {},
   "outputs": [],
   "source": []
  }
 ],
 "metadata": {
  "kernelspec": {
   "display_name": "Python 3",
   "language": "python",
   "name": "python3"
  },
  "language_info": {
   "codemirror_mode": {
    "name": "ipython",
    "version": 3
   },
   "file_extension": ".py",
   "mimetype": "text/x-python",
   "name": "python",
   "nbconvert_exporter": "python",
   "pygments_lexer": "ipython3",
   "version": "3.7.3"
  }
 },
 "nbformat": 4,
 "nbformat_minor": 2
}
